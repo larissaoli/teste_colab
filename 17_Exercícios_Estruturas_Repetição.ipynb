{
  "nbformat": 4,
  "nbformat_minor": 0,
  "metadata": {
    "colab": {
      "provenance": [],
      "authorship_tag": "ABX9TyPVPlrPX26vaM2sIG+JqUDM",
      "include_colab_link": true
    },
    "kernelspec": {
      "name": "python3",
      "display_name": "Python 3"
    },
    "language_info": {
      "name": "python"
    }
  },
  "cells": [
    {
      "cell_type": "markdown",
      "metadata": {
        "id": "view-in-github",
        "colab_type": "text"
      },
      "source": [
        "<a href=\"https://colab.research.google.com/github/larissaoli/teste_colab/blob/main/17_Exerc%C3%ADcios_Estruturas_Repeti%C3%A7%C3%A3o.ipynb\" target=\"_parent\"><img src=\"https://colab.research.google.com/assets/colab-badge.svg\" alt=\"Open In Colab\"/></a>"
      ]
    },
    {
      "cell_type": "code",
      "execution_count": null,
      "metadata": {
        "id": "x39nv6jR8EGB",
        "colab": {
          "base_uri": "https://localhost:8080/"
        },
        "outputId": "0560dfec-16fe-427e-ead7-3913bd8e6265"
      },
      "outputs": [
        {
          "output_type": "stream",
          "name": "stdout",
          "text": [
            "Qual a nota?5\n",
            "Qual a nota?6\n",
            "Qual a nota?4\n",
            "Qual a nota?6\n",
            "Qual a nota?3\n",
            "[5.0, 6.0, 4.0, 6.0, 3.0]\n",
            "4.8\n"
          ]
        }
      ],
      "source": [
        "import statistics\n",
        "c=5\n",
        "notas = []\n",
        "while c > 0:\n",
        "    n = float(input(\"Qual a nota?\"))\n",
        "    notas.append(n)\n",
        "    c = c - 1\n",
        "print(notas)\n",
        "print(statistics.mean(notas))"
      ]
    },
    {
      "cell_type": "code",
      "source": [],
      "metadata": {
        "id": "lKEa5HQOqgNc"
      },
      "execution_count": null,
      "outputs": []
    },
    {
      "cell_type": "code",
      "source": [
        "def soma_while(l):\n",
        "    n = 0\n",
        "    m = 0\n",
        "    while n < len(l):\n",
        "        s = l[n] + m\n",
        "        m = s\n",
        "        n += 1\n",
        "    return m"
      ],
      "metadata": {
        "id": "nAxuM646SoCu"
      },
      "execution_count": null,
      "outputs": []
    },
    {
      "cell_type": "code",
      "source": [
        "l= [1,2,3,4,5,6,7,8,9,10]\n",
        "len(l)"
      ],
      "metadata": {
        "colab": {
          "base_uri": "https://localhost:8080/"
        },
        "id": "n2iqxZqfLArm",
        "outputId": "cbeeb1c9-f102-4109-850a-7c0b445d21ff"
      },
      "execution_count": null,
      "outputs": [
        {
          "output_type": "execute_result",
          "data": {
            "text/plain": [
              "10"
            ]
          },
          "metadata": {},
          "execution_count": 6
        }
      ]
    },
    {
      "cell_type": "code",
      "source": [
        "lista_numeros = [1,2,3,4,5,6,7,8,9,10]\n",
        "\n",
        "print(soma_while(lista_numeros))"
      ],
      "metadata": {
        "colab": {
          "base_uri": "https://localhost:8080/"
        },
        "id": "b-4Fy_pxKXAu",
        "outputId": "32ed0c61-dc9c-4bdd-a665-4b33663a39ac"
      },
      "execution_count": null,
      "outputs": [
        {
          "output_type": "stream",
          "name": "stdout",
          "text": [
            "55\n"
          ]
        }
      ]
    },
    {
      "cell_type": "code",
      "source": [
        "import random\n",
        "x = random.randint(1,9)\n",
        "print(x)\n",
        "p = int(input(\"Insira um palpite de 1 a 9: \"))\n",
        "while True:\n",
        "    if p != x:\n",
        "        p = int(input(\"Insira um palpite de 1 a 9: \"))\n",
        "    else:\n",
        "        print(\"Bem adivinhado\")\n",
        "        break"
      ],
      "metadata": {
        "colab": {
          "base_uri": "https://localhost:8080/"
        },
        "id": "xOXw8a3NPxTN",
        "outputId": "bea0a137-6358-4cb2-e7d4-50d37dec7057"
      },
      "execution_count": null,
      "outputs": [
        {
          "output_type": "stream",
          "name": "stdout",
          "text": [
            "9\n",
            "Insira um palpite de 1 a 9: 9\n",
            "Bem adivinhado\n"
          ]
        }
      ]
    },
    {
      "cell_type": "code",
      "source": [
        "def chute():\n",
        "    import random\n",
        "    x = random.randint(0,100)\n",
        "    p = int(input(\"Adivinhe qual o número de 0 a 100: \"))\n",
        "    while True:\n",
        "        if p != x:\n",
        "            if p < x:\n",
        "                print(\"Chute muito baixo\")\n",
        "            else:\n",
        "                print(\"Chute muito alto\")\n",
        "            p = int(input(\"Insira outro palpite de 0 a 100: \"))\n",
        "        else:\n",
        "            print(\"Na medida\")\n",
        "            break"
      ],
      "metadata": {
        "id": "D1dSmYWmqhmO"
      },
      "execution_count": null,
      "outputs": []
    },
    {
      "cell_type": "code",
      "source": [
        "chute()"
      ],
      "metadata": {
        "colab": {
          "base_uri": "https://localhost:8080/"
        },
        "id": "q1nn806rqkyr",
        "outputId": "9d0e61ae-b833-4937-f1d1-b19a1e5a31ec"
      },
      "execution_count": null,
      "outputs": [
        {
          "output_type": "stream",
          "name": "stdout",
          "text": [
            "Adivinhe qual o número de 0 a 100: 90\n",
            "Chute muito alto\n",
            "Insira outro palpite de 0 a 100: 50\n",
            "Chute muito alto\n",
            "Insira outro palpite de 0 a 100: 30\n",
            "Chute muito baixo\n",
            "Insira outro palpite de 0 a 100: 40\n",
            "Chute muito baixo\n",
            "Insira outro palpite de 0 a 100: 45\n",
            "Chute muito alto\n",
            "Insira outro palpite de 0 a 100: 44\n",
            "Chute muito alto\n",
            "Insira outro palpite de 0 a 100: 43\n",
            "Chute muito alto\n",
            "Insira outro palpite de 0 a 100: 42\n",
            "Chute muito alto\n",
            "Insira outro palpite de 0 a 100: 41\n",
            "Na medida\n"
          ]
        }
      ]
    }
  ]
}